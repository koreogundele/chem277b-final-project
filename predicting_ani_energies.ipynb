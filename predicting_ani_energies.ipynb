{
 "cells": [
  {
   "cell_type": "code",
   "execution_count": 1,
   "metadata": {},
   "outputs": [],
   "source": [
    "from pyanitools import anidataloader\n",
    "import numpy as np\n",
    "import torch\n",
    "import torch.nn as nn\n",
    "import torch.nn.functional as F\n",
    "import torch.optim as optim\n",
    "from torch.autograd import Variable\n",
    "from sklearn.metrics import mean_squared_error\n",
    "import matplotlib.pyplot as plt\n",
    "import math\n",
    "from torch.optim import SGD, Adam\n",
    "\n",
    "from sklearn.model_selection import KFold\n",
    "import random\n",
    "from tqdm import tqdm"
   ]
  },
  {
   "cell_type": "markdown",
   "metadata": {},
   "source": [
    "# Many-body tensor representation (MBTR)\n",
    "\n",
    "### After a trial run with ani file s01, I've started unpacking four ANI files and creating representations for each atom. I am not done and will continue to work on this throughout the week. Because of the way ASE wants me to create atoms, I think I have to do this manually for each one. If you know a more efficient way to get this done please let me know!"
   ]
  },
  {
   "cell_type": "code",
   "execution_count": 2,
   "metadata": {},
   "outputs": [
    {
     "name": "stdout",
     "output_type": "stream",
     "text": [
      "  Symbols:      ['C', 'H', 'H', 'H', 'H']\n",
      "  Energies:     (5400,) \n",
      "\n",
      "  Symbols:      ['N', 'H', 'H', 'H']\n",
      "  Energies:     (3600,) \n",
      "\n",
      "  Symbols:      ['O', 'H', 'H']\n",
      "  Energies:     (1800,) \n",
      "\n"
     ]
    }
   ],
   "source": [
    "# FIRST HDF5 FILE\n",
    "hdf5file = 'ani_gdb_s01.h5'\n",
    "\n",
    "# construct the data loader class\n",
    "ad1 = anidataloader(hdf5file)\n",
    "\n",
    "coords_list01 = []\n",
    "energies_list01 = []\n",
    "# print the species of the data set one by one\n",
    "for data in ad1:\n",
    "#     print(data.keys())\n",
    "\n",
    "    # extract the data\n",
    "    P = data['path']\n",
    "    X = data['coordinates']\n",
    "    E = data['energies']\n",
    "    S = data['species']\n",
    "    sm = data['smiles']\n",
    "\n",
    "    # print the data\n",
    "    #print(\"Path:   \", P)\n",
    "    #print(\"  Smiles:      \",\"\".join(sm))\n",
    "    print(\"  Symbols:     \", S)\n",
    "    #print(\"  Coordinates: \", X.shape)\n",
    "    coords_list01.append(X)\n",
    "    print(\"  Energies:    \", E.shape, \"\\n\")\n",
    "    energies_list01.append(E)\n",
    "\n",
    "# closes the H5 data file\n",
    "ad1.cleanup()"
   ]
  },
  {
   "cell_type": "code",
   "execution_count": 3,
   "metadata": {},
   "outputs": [
    {
     "name": "stdout",
     "output_type": "stream",
     "text": [
      "  Symbols:      ['C', 'C', 'H', 'H', 'H', 'H', 'H', 'H']\n",
      "  Energies:     (8469,) \n",
      "\n",
      "  Symbols:      ['C', 'N', 'H', 'H', 'H', 'H', 'H']\n",
      "  Energies:     (7084,) \n",
      "\n",
      "  Symbols:      ['N', 'N']\n",
      "  Energies:     (480,) \n",
      "\n",
      "  Symbols:      ['O', 'N', 'H', 'H', 'H']\n",
      "  Energies:     (4320,) \n",
      "\n",
      "  Symbols:      ['O', 'N', 'H']\n",
      "  Energies:     (1440,) \n",
      "\n",
      "  Symbols:      ['C', 'O', 'H', 'H', 'H', 'H']\n",
      "  Energies:     (5760,) \n",
      "\n",
      "  Symbols:      ['C', 'C', 'H', 'H', 'H', 'H']\n",
      "  Energies:     (5760,) \n",
      "\n",
      "  Symbols:      ['C', 'O', 'H', 'H']\n",
      "  Energies:     (2880,) \n",
      "\n",
      "  Symbols:      ['O', 'O']\n",
      "  Energies:     (480,) \n",
      "\n",
      "  Symbols:      ['O', 'O', 'H', 'H']\n",
      "  Energies:     (2819,) \n",
      "\n",
      "  Symbols:      ['C', 'C', 'H', 'H']\n",
      "  Energies:     (2880,) \n",
      "\n",
      "  Symbols:      ['N', 'N', 'H', 'H', 'H', 'H']\n",
      "  Energies:     (5710,) \n",
      "\n",
      "  Symbols:      ['N', 'N', 'H', 'H']\n",
      "  Energies:     (2880,) \n",
      "\n"
     ]
    }
   ],
   "source": [
    "# SECOND HD5 FILE\n",
    "hdf5file = 'ani_gdb_s02.h5'\n",
    "\n",
    "# construct the data loader class\n",
    "ad1 = anidataloader(hdf5file)\n",
    "\n",
    "coords_list02 = []\n",
    "energies_list02 = []\n",
    "# print the species of the data set one by one\n",
    "for data in ad1:\n",
    "#     print(data.keys())\n",
    "\n",
    "    # extract the data\n",
    "    P = data['path']\n",
    "    X = data['coordinates']\n",
    "    E = data['energies']\n",
    "    S = data['species']\n",
    "    sm = data['smiles']\n",
    "\n",
    "    # print the data\n",
    "    #print(\"Path:   \", P)\n",
    "    #print(\"  Smiles:      \",\"\".join(sm))\n",
    "    print(\"  Symbols:     \", S)\n",
    "    #print(\"  Coordinates: \", X.shape)\n",
    "    coords_list02.append(X)\n",
    "    print(\"  Energies:    \", E.shape, \"\\n\")\n",
    "    energies_list02.append(E)\n",
    "\n",
    "# closes the H5 data file\n",
    "ad1.cleanup()"
   ]
  },
  {
   "cell_type": "code",
   "execution_count": 4,
   "metadata": {},
   "outputs": [
    {
     "name": "stdout",
     "output_type": "stream",
     "text": [
      "  Symbols:      ['C', 'C', 'C', 'H', 'H', 'H', 'H', 'H', 'H', 'H', 'H']\n",
      "  Energies:     (12960,) \n",
      "\n",
      "  Symbols:      ['C', 'C', 'N', 'H', 'H', 'H', 'H', 'H', 'H', 'H']\n",
      "  Energies:     (11520,) \n",
      "\n",
      "  Symbols:      ['N', 'C', 'O', 'H', 'H', 'H']\n",
      "  Energies:     (5760,) \n",
      "\n",
      "  Symbols:      ['O', 'C', 'O', 'H', 'H']\n",
      "  Energies:     (4320,) \n",
      "\n",
      "  Symbols:      ['N', 'N', 'C', 'H', 'H', 'H', 'H']\n",
      "  Energies:     (7200,) \n",
      "\n",
      "  Symbols:      ['O', 'N', 'C', 'H', 'H', 'H']\n",
      "  Energies:     (5760,) \n",
      "\n",
      "  Symbols:      ['C', 'C', 'C', 'H', 'H', 'H', 'H']\n",
      "  Energies:     (7200,) \n",
      "\n",
      "  Symbols:      ['C', 'C', 'C', 'H', 'H', 'H', 'H', 'H', 'H']\n",
      "  Energies:     (10080,) \n",
      "\n",
      "  Symbols:      ['C', 'C', 'N', 'H', 'H', 'H', 'H', 'H']\n",
      "  Energies:     (8640,) \n",
      "\n",
      "  Symbols:      ['C', 'C', 'O', 'H', 'H', 'H', 'H']\n",
      "  Energies:     (7200,) \n",
      "\n",
      "  Symbols:      ['O', 'N', 'O', 'H']\n",
      "  Energies:     (2880,) \n",
      "\n",
      "  Symbols:      ['O', 'O', 'O', 'H', 'H']\n",
      "  Energies:     (4320,) \n",
      "\n",
      "  Symbols:      ['C', 'C', 'O', 'H', 'H', 'H', 'H', 'H', 'H']\n",
      "  Energies:     (10080,) \n",
      "\n",
      "  Symbols:      ['C', 'N', 'C', 'H', 'H', 'H', 'H', 'H', 'H', 'H']\n",
      "  Energies:     (11520,) \n",
      "\n",
      "  Symbols:      ['C', 'O', 'C', 'H', 'H', 'H', 'H', 'H', 'H']\n",
      "  Energies:     (10080,) \n",
      "\n",
      "  Symbols:      ['C', 'C', 'C', 'H', 'H', 'H', 'H', 'H', 'H']\n",
      "  Energies:     (10080,) \n",
      "\n",
      "  Symbols:      ['C', 'C', 'O', 'H', 'H', 'H', 'H']\n",
      "  Energies:     (7200,) \n",
      "\n",
      "  Symbols:      ['O', 'C', 'O']\n",
      "  Energies:     (1440,) \n",
      "\n",
      "  Symbols:      ['C', 'C', 'N', 'H', 'H', 'H']\n",
      "  Energies:     (5760,) \n",
      "\n",
      "  Symbols:      ['N', 'C', 'N', 'H', 'H', 'H', 'H']\n",
      "  Energies:     (7200,) \n",
      "\n"
     ]
    }
   ],
   "source": [
    "# THIRD HD5 FILE\n",
    "hdf5file = 'ani_gdb_s03.h5'\n",
    "\n",
    "# construct the data loader class\n",
    "ad1 = anidataloader(hdf5file)\n",
    "\n",
    "coords_list03 = []\n",
    "energies_list03 = []\n",
    "# print the species of the data set one by one\n",
    "for data in ad1:\n",
    "#     print(data.keys())\n",
    "\n",
    "    # extract the data\n",
    "    P = data['path']\n",
    "    X = data['coordinates']\n",
    "    E = data['energies']\n",
    "    S = data['species']\n",
    "    sm = data['smiles']\n",
    "\n",
    "    # print the data\n",
    "    #print(\"Path:   \", P)\n",
    "    #print(\"  Smiles:      \",\"\".join(sm))\n",
    "    print(\"  Symbols:     \", S)\n",
    "    #print(\"  Coordinates: \", X.shape)\n",
    "    coords_list03.append(X)\n",
    "    print(\"  Energies:    \", E.shape, \"\\n\")\n",
    "    energies_list03.append(E)\n",
    "\n",
    "# closes the H5 data file\n",
    "ad1.cleanup()"
   ]
  },
  {
   "cell_type": "code",
   "execution_count": 23,
   "metadata": {},
   "outputs": [
    {
     "name": "stdout",
     "output_type": "stream",
     "text": [
      "  Symbols:      ['C', 'C', 'C', 'N', 'H', 'H', 'H', 'H', 'H', 'H', 'H', 'H', 'H']\n",
      "  Energies:     (15840,) \n",
      "\n",
      "  Symbols:      ['C', 'C', 'C', 'O', 'H', 'H', 'H', 'H', 'H', 'H', 'H', 'H']\n",
      "  Energies:     (14400,) \n",
      "\n",
      "  Symbols:      ['O', 'C', 'O', 'O', 'H', 'H']\n",
      "  Energies:     (5760,) \n",
      "\n",
      "  Symbols:      ['C', 'C', 'C', 'C', 'H', 'H', 'H', 'H', 'H', 'H', 'H', 'H', 'H', 'H']\n",
      "  Energies:     (17280,) \n",
      "\n",
      "  Symbols:      ['C', 'C', 'C', 'N', 'H', 'H', 'H', 'H', 'H', 'H', 'H', 'H', 'H']\n",
      "  Energies:     (15840,) \n",
      "\n",
      "  Symbols:      ['C', 'C', 'C', 'O', 'H', 'H', 'H', 'H', 'H', 'H', 'H', 'H']\n",
      "  Energies:     (14400,) \n",
      "\n",
      "  Symbols:      ['N', 'C', 'C', 'N', 'H', 'H', 'H', 'H', 'H', 'H', 'H', 'H']\n",
      "  Energies:     (14400,) \n",
      "\n",
      "  Symbols:      ['N', 'C', 'C', 'O', 'H', 'H', 'H', 'H', 'H', 'H', 'H']\n",
      "  Energies:     (12960,) \n",
      "\n",
      "  Symbols:      ['O', 'C', 'C', 'O', 'H', 'H', 'H', 'H', 'H', 'H']\n",
      "  Energies:     (11520,) \n",
      "\n",
      "  Symbols:      ['C', 'C', 'N', 'C', 'H', 'H', 'H', 'H', 'H', 'H', 'H', 'H', 'H']\n",
      "  Energies:     (15840,) \n",
      "\n",
      "  Symbols:      ['C', 'C', 'O', 'C', 'H', 'H', 'H', 'H', 'H', 'H', 'H', 'H']\n",
      "  Energies:     (14400,) \n",
      "\n",
      "  Symbols:      ['C', 'C', 'C', 'C', 'H', 'H', 'H', 'H', 'H', 'H', 'H', 'H']\n",
      "  Energies:     (14400,) \n",
      "\n",
      "  Symbols:      ['C', 'N', 'C', 'C', 'H', 'H', 'H', 'H', 'H', 'H', 'H', 'H', 'H']\n",
      "  Energies:     (15840,) \n",
      "\n",
      "  Symbols:      ['C', 'C', 'C', 'O', 'H', 'H', 'H', 'H', 'H', 'H']\n",
      "  Energies:     (11520,) \n",
      "\n",
      "  Symbols:      ['C', 'C', 'C', 'N', 'H', 'H', 'H', 'H', 'H']\n",
      "  Energies:     (10080,) \n",
      "\n",
      "  Symbols:      ['N', 'C', 'C', 'C', 'H', 'H', 'H', 'H', 'H', 'H', 'H']\n",
      "  Energies:     (12960,) \n",
      "\n",
      "  Symbols:      ['O', 'C', 'C', 'C', 'H', 'H', 'H', 'H', 'H', 'H']\n",
      "  Energies:     (11520,) \n",
      "\n",
      "  Symbols:      ['O', 'C', 'C', 'O', 'H', 'H', 'H', 'H']\n",
      "  Energies:     (8640,) \n",
      "\n",
      "  Symbols:      ['O', 'C', 'C', 'N', 'H', 'H', 'H']\n",
      "  Energies:     (7200,) \n",
      "\n",
      "  Symbols:      ['C', 'N', 'C', 'N', 'H', 'H', 'H', 'H', 'H', 'H']\n",
      "  Energies:     (11520,) \n",
      "\n",
      "  Symbols:      ['C', 'N', 'C', 'O', 'H', 'H', 'H', 'H', 'H']\n",
      "  Energies:     (10080,) \n",
      "\n",
      "  Symbols:      ['N', 'N', 'C', 'N', 'H', 'H', 'H', 'H', 'H']\n",
      "  Energies:     (10080,) \n",
      "\n",
      "  Symbols:      ['N', 'N', 'C', 'O', 'H', 'H', 'H', 'H']\n",
      "  Energies:     (6837,) \n",
      "\n",
      "  Symbols:      ['C', 'C', 'C', 'C', 'H', 'H', 'H', 'H', 'H', 'H', 'H', 'H']\n",
      "  Energies:     (14400,) \n",
      "\n",
      "  Symbols:      ['O', 'N', 'C', 'N', 'H', 'H', 'H', 'H']\n",
      "  Energies:     (8640,) \n",
      "\n",
      "  Symbols:      ['O', 'N', 'C', 'O', 'H', 'H', 'H']\n",
      "  Energies:     (7200,) \n",
      "\n",
      "  Symbols:      ['C', 'N', 'N', 'C', 'H', 'H', 'H', 'H', 'H', 'H']\n",
      "  Energies:     (11518,) \n",
      "\n",
      "  Symbols:      ['C', 'O', 'C', 'C', 'H', 'H', 'H', 'H', 'H', 'H']\n",
      "  Energies:     (11520,) \n",
      "\n",
      "  Symbols:      ['C', 'O', 'C', 'O', 'H', 'H', 'H', 'H']\n",
      "  Energies:     (8640,) \n",
      "\n",
      "  Symbols:      ['C', 'O', 'N', 'C', 'H', 'H', 'H', 'H', 'H']\n",
      "  Energies:     (10080,) \n",
      "\n",
      "  Symbols:      ['C', 'C', 'C', 'C', 'H', 'H', 'H', 'H', 'H', 'H']\n",
      "  Energies:     (11520,) \n",
      "\n",
      "  Symbols:      ['N', 'C', 'C', 'C', 'H', 'H', 'H', 'H', 'H']\n",
      "  Energies:     (10080,) \n",
      "\n",
      "  Symbols:      ['O', 'C', 'C', 'C', 'H', 'H', 'H', 'H']\n",
      "  Energies:     (8640,) \n",
      "\n",
      "  Symbols:      ['C', 'C', 'C', 'C', 'H', 'H', 'H', 'H', 'H', 'H']\n",
      "  Energies:     (11520,) \n",
      "\n",
      "  Symbols:      ['C', 'C', 'C', 'O', 'H', 'H', 'H', 'H', 'H', 'H']\n",
      "  Energies:     (11519,) \n",
      "\n",
      "  Symbols:      ['C', 'C', 'C', 'O', 'H', 'H', 'H', 'H']\n",
      "  Energies:     (8640,) \n",
      "\n",
      "  Symbols:      ['C', 'C', 'C', 'N', 'H', 'H', 'H']\n",
      "  Energies:     (7200,) \n",
      "\n",
      "  Symbols:      ['O', 'C', 'C', 'O', 'H', 'H']\n",
      "  Energies:     (5760,) \n",
      "\n",
      "  Symbols:      ['O', 'C', 'C', 'N', 'H']\n",
      "  Energies:     (4320,) \n",
      "\n",
      "  Symbols:      ['N', 'C', 'C', 'N']\n",
      "  Energies:     (2880,) \n",
      "\n",
      "  Symbols:      ['C', 'N', 'N', 'C', 'H', 'H', 'H', 'H']\n",
      "  Energies:     (8640,) \n",
      "\n",
      "  Symbols:      ['C', 'C', 'C', 'C', 'H', 'H', 'H', 'H']\n",
      "  Energies:     (8640,) \n",
      "\n",
      "  Symbols:      ['O', 'C', 'C', 'C', 'H', 'H']\n",
      "  Energies:     (5760,) \n",
      "\n",
      "  Symbols:      ['C', 'C', 'C', 'N', 'H']\n",
      "  Energies:     (4320,) \n",
      "\n",
      "  Symbols:      ['C', 'C', 'C', 'C', 'H', 'H']\n",
      "  Energies:     (5760,) \n",
      "\n",
      "  Symbols:      ['C', 'C', 'N', 'N', 'H', 'H', 'H', 'H', 'H', 'H']\n",
      "  Energies:     (11520,) \n",
      "\n",
      "  Symbols:      ['C', 'C', 'N', 'N', 'H', 'H', 'H', 'H', 'H', 'H']\n",
      "  Energies:     (11520,) \n",
      "\n",
      "  Symbols:      ['C', 'C', 'N', 'O', 'H', 'H', 'H', 'H', 'H']\n",
      "  Energies:     (9966,) \n",
      "\n",
      "  Symbols:      ['C', 'C', 'C', 'C', 'H', 'H', 'H', 'H', 'H', 'H', 'H', 'H']\n",
      "  Energies:     (14400,) \n",
      "\n",
      "  Symbols:      ['N', 'C', 'C', 'C', 'H', 'H', 'H', 'H', 'H', 'H', 'H']\n",
      "  Energies:     (12960,) \n",
      "\n",
      "  Symbols:      ['O', 'C', 'C', 'C', 'H', 'H', 'H', 'H', 'H', 'H']\n",
      "  Energies:     (11520,) \n",
      "\n",
      "  Symbols:      ['C', 'C', 'C', 'N', 'H', 'H', 'H', 'H', 'H', 'H', 'H']\n",
      "  Energies:     (12960,) \n",
      "\n",
      "  Symbols:      ['C', 'C', 'C', 'O', 'H', 'H', 'H', 'H', 'H', 'H']\n",
      "  Energies:     (11520,) \n",
      "\n",
      "  Symbols:      ['C', 'N', 'C', 'C', 'H', 'H', 'H', 'H', 'H', 'H', 'H']\n",
      "  Energies:     (12960,) \n",
      "\n",
      "  Symbols:      ['C', 'C', 'N', 'O', 'H', 'H', 'H', 'H', 'H']\n",
      "  Energies:     (6048,) \n",
      "\n",
      "  Symbols:      ['C', 'C', 'C', 'C', 'H', 'H', 'H', 'H', 'H', 'H', 'H', 'H']\n",
      "  Energies:     (14400,) \n",
      "\n",
      "  Symbols:      ['C', 'C', 'N', 'C', 'H', 'H', 'H', 'H', 'H', 'H', 'H']\n",
      "  Energies:     (12960,) \n",
      "\n",
      "  Symbols:      ['C', 'C', 'O', 'C', 'H', 'H', 'H', 'H', 'H', 'H']\n",
      "  Energies:     (11461,) \n",
      "\n",
      "  Symbols:      ['C', 'C', 'O', 'O', 'H', 'H', 'H', 'H']\n",
      "  Energies:     (8507,) \n",
      "\n",
      "  Symbols:      ['N', 'C', 'N', 'N', 'H', 'H', 'H', 'H', 'H']\n",
      "  Energies:     (10080,) \n",
      "\n",
      "  Symbols:      ['N', 'C', 'N', 'O', 'H', 'H', 'H', 'H']\n",
      "  Energies:     (8640,) \n",
      "\n"
     ]
    }
   ],
   "source": [
    "# FOURTH HDF5 FILE\n",
    "hdf5file = 'ani_gdb_s04.h5'\n",
    "\n",
    "# construct the data loader class\n",
    "ad1 = anidataloader(hdf5file)\n",
    "\n",
    "coords_list04 = []\n",
    "energies_list04 = []\n",
    "# print the species of the data set one by one\n",
    "for data in ad1:\n",
    "#     print(data.keys())\n",
    "\n",
    "    # extract the data\n",
    "    P = data['path']\n",
    "    X = data['coordinates']\n",
    "    E = data['energies']\n",
    "    S = data['species']\n",
    "    sm = data['smiles']\n",
    "\n",
    "    # print the data\n",
    "    #print(\"Path:   \", P)\n",
    "    #print(\"  Smiles:      \",\"\".join(sm))\n",
    "    print(\"  Symbols:     \", S)\n",
    "    #print(\"  Coordinates: \", X)\n",
    "    coords_list04.append(X)\n",
    "    print(\"  Energies:    \", E.shape, \"\\n\")\n",
    "    energies_list04.append(E)\n",
    "\n",
    "# closes the H5 data file\n",
    "ad1.cleanup()"
   ]
  },
  {
   "cell_type": "markdown",
   "metadata": {},
   "source": [
    "### Get arrays of coordinates and energies for each compound. In the cell below I make separate coordinate lists for each compound. I could just loop through and get them that way, but if I do that I won't know which is which for the step where I create the atom representations."
   ]
  },
  {
   "cell_type": "code",
   "execution_count": 32,
   "metadata": {},
   "outputs": [],
   "source": [
    "# GET ARRAY OF COORDINATES FOR EACH COMPOUND\n",
    "# S01\n",
    "CH4_coords_list = coords_list01[0]\n",
    "NH3_coords_list = coords_list01[1]\n",
    "H2O_coords_list = coords_list01[2]\n",
    "# S02\n",
    "C2H6_coords_list = coords_list02[0]\n",
    "CH3NH2_coords_list = coords_list02[1]\n",
    "N2_coords_list = coords_list02[2]\n",
    "NH3O_coords_list = coords_list02[3]\n",
    "NHO_coords_list = coords_list02[4]\n",
    "CH3OH_coords_list = coords_list02[5]\n",
    "C2H4_coords_list = coords_list02[6]\n",
    "CH2O_coords_list = coords_list02[7]\n",
    "O2_coords_list = coords_list02[8]\n",
    "H2O2_coords_list = coords_list02[9]\n",
    "C2H2_coords_list = coords_list02[10]\n",
    "N2H4_coords_list = coords_list02[11]\n",
    "H2N2_coords_list = coords_list02[12]\n",
    "# S03\n",
    "C3H8_coords_list = coords_list03[0]\n",
    "CH3_2_NH_coords_list = coords_list03[1]\n",
    "H3NCO_coords_list = coords_list03[2]\n",
    "H2CO2_coords_list = coords_list03[3]\n",
    "N2CH4_coords_list = coords_list03[4]\n",
    "ONCH3_coords_list = coords_list03[5]\n",
    "C3H4_coords_list = coords_list03[6]\n",
    "C3H6_coords_list = coords_list03[7]\n",
    "CCNH3_coords_list = coords_list03[8]\n",
    "C2OH4_coords_list = coords_list03[9]\n",
    "ONOH_coords_list = coords_list03[10]\n",
    "H2O3_coords_list = coords_list03[11]\n",
    "C2H6O_coords_list = coords_list03[12]\n",
    "C2NH7_coords_list = coords_list03[13]\n",
    "C2OH6_coords_list = coords_list03[14]\n",
    "C3H6_coords_list2 = coords_list03[15]\n",
    "C2OH4_coords_list2 = coords_list03[16]\n",
    "CO2_coords_list = coords_list03[17]\n",
    "C2NH3_coords_list = coords_list03[18]\n",
    "CN2H4_coords_list = coords_list03[19]\n",
    "# S04\n",
    "C3NH9_coords_list = coords_list04[0]\n",
    "C3OH8_coords_list = coords_list04[1]\n",
    "O3CH2_coords_list = coords_list04[2]\n",
    "C4H10_coords_list = coords_list04[3]\n",
    "C3NH9_coords_list2 = coords_list04[4]\n",
    "C3OH8_coords_list2 = coords_list04[5]\n",
    "N2C2H8_coords_list = coords_list04[6]\n",
    "NC2OH7_coords_list = coords_list04[7]\n",
    "O2C2H6_coords_list = coords_list04[8]\n",
    "C3NH9_coords_list3 = coords_list04[9]\n",
    "C3OH8_coords_list3 = coords_list04[10]\n",
    "C4H8_coords_list = coords_list04[11]\n",
    "C3NH9_coords_list4 = coords_list04[12]\n",
    "C3OH6_coords_list = coords_list04[13]\n",
    "C3NH5_coords_list = coords_list04[14]\n",
    "NC3H7_coords_list = coords_list04[15]\n",
    "OC3H6_coords_list = coords_list04[16]\n",
    "O2C2H4_coords_list = coords_list04[17]\n",
    "OC2NH3_coords_list = coords_list04[18]\n",
    "C2N2H6_coords_list = coords_list04[19]\n",
    "C2NOH5_coords_list = coords_list04[20]\n",
    "N3CH5_coords_list = coords_list04[22]\n",
    "N2COH4_coords_list = coords_list04[22]\n",
    "C4H8_coords_list2 = coords_list04[23]\n",
    "ON2CH4_coords_list = coords_list04[24]\n",
    "O2NCH3_coords_list = coords_list04[25]\n",
    "C2N2H6_coords_list = coords_list04[26]\n",
    "C3OH6_coords_list2 = coords_list04[27]\n",
    "C2O2H4_coords_list = coords_list04[28]\n",
    "C2ONH5_coords_list = coords_list04[29]\n",
    "C4H6_coords_list = coords_list04[30]\n",
    "NC3H5_coords_list = coords_list04[31]\n",
    "OC3H4_coords_list = coords_list04[32]\n",
    "C4H6_coords_list2 = coords_list04[33]\n",
    "C3OH6_coords_list3 = coords_list04[34]\n",
    "C3OH4_coords_list = coords_list04[35]\n",
    "C3NH3_coords_list = coords_list04[36]\n",
    "O2C2H2_coords_list = coords_list04[37]\n",
    "OC2NH3_coords_list = coords_list04[38]\n",
    "N2C2H8_coords_list = coords_list04[39]\n",
    "C2N2H4_coords_list = coords_list04[40]\n",
    "C4H4_coords_list = coords_list04[41]\n",
    "OC3H2_coords_list = coords_list04[42]\n",
    "C3NH_coords_list2 = coords_list04[43]\n",
    "C4H2_coords_list = coords_list04[44]\n",
    "C2N2H6_coords_list2 = coords_list04[45]\n",
    "C2N2H6_coords_list3 = coords_list04[46]\n",
    "C2NOH5_coords_list2 = coords_list04[47]\n",
    "C4H8_coords_list3 = coords_list04[48]\n",
    "NC3H7_coords_list2 = coords_list04[49]\n",
    "OC3H6_coords_list2 = coords_list04[50]\n",
    "C3NH7_coords_list = coords_list04[51]\n",
    "C3OH6_coords_list4 = coords_list04[52]\n",
    "C3NH7_coords_list2 = coords_list04[53]\n",
    "C2NOH5_coords_list3 = coords_list04[54]\n",
    "C4H8_coords_list4 = coords_list04[55]\n",
    "C3NH7_coords_list3 = coords_list04[56]\n",
    "C3OH6_coords_list4 = coords_list04[57]\n",
    "C2O2H4_coords_list2 = coords_list04[58]\n",
    "N3CH5_coords_list2 = coords_list04[59]\n",
    "N2COH4_coords_list2 = coords_list04[60]\n",
    "\n",
    "# S05"
   ]
  },
  {
   "cell_type": "markdown",
   "metadata": {},
   "source": [
    "### I initially created a list of energies, but it gave me some trouble when trying to permute the energies and run the training fold. I tried converting to an array but got this error:"
   ]
  },
  {
   "cell_type": "code",
   "execution_count": 120,
   "metadata": {},
   "outputs": [
    {
     "ename": "ValueError",
     "evalue": "setting an array element with a sequence. The requested array has an inhomogeneous shape after 1 dimensions. The detected shape was (16,) + inhomogeneous part.",
     "output_type": "error",
     "traceback": [
      "\u001b[0;31m---------------------------------------------------------------------------\u001b[0m",
      "\u001b[0;31mValueError\u001b[0m                                Traceback (most recent call last)",
      "Cell \u001b[0;32mIn[120], line 3\u001b[0m\n\u001b[1;32m      1\u001b[0m \u001b[39m# ALL ENERGIES TOGETHER\u001b[39;00m\n\u001b[1;32m      2\u001b[0m all_energies \u001b[39m=\u001b[39m energies_list01 \u001b[39m+\u001b[39m energies_list02\n\u001b[0;32m----> 3\u001b[0m all_energies_array \u001b[39m=\u001b[39m np\u001b[39m.\u001b[39;49marray(all_energies)\n",
      "\u001b[0;31mValueError\u001b[0m: setting an array element with a sequence. The requested array has an inhomogeneous shape after 1 dimensions. The detected shape was (16,) + inhomogeneous part."
     ]
    }
   ],
   "source": [
    "# ALL ENERGIES TOGETHER\n",
    "all_energies = energies_list01 + energies_list02\n",
    "all_energies_array = np.array(all_energies)"
   ]
  },
  {
   "cell_type": "markdown",
   "metadata": {},
   "source": [
    "### This error doesn't make sense to me since all energies have the same dimensions (one).\n",
    "\n",
    "### In the meantime, I have split up each energy list and them put them back together. This feels much longer than it needs to be, but this allows me to have all_energies as an array and use it in my model."
   ]
  },
  {
   "cell_type": "code",
   "execution_count": 12,
   "metadata": {},
   "outputs": [
    {
     "data": {
      "text/plain": [
       "numpy.ndarray"
      ]
     },
     "execution_count": 12,
     "metadata": {},
     "output_type": "execute_result"
    }
   ],
   "source": [
    "\n",
    "# GET ARRAYS OF ENERGIES FOR EACH COMPOUND\n",
    "# SO1\n",
    "CH4_energies = energies_list01[0]\n",
    "NH3_energies = energies_list01[1]\n",
    "H2O_energies = energies_list01[2]\n",
    "# SO2\n",
    "C2H6_energies = energies_list02[0]\n",
    "CH3NH2_energies = energies_list02[1]\n",
    "N2_energies = energies_list02[2]\n",
    "NH3O_energies = energies_list02[3]\n",
    "NHO_energies = energies_list02[4]\n",
    "CH3OH_energies = energies_list02[5]\n",
    "C2H4_energies = energies_list02[6]\n",
    "CH2O_energies = energies_list02[7]\n",
    "O2_energies = energies_list02[8]\n",
    "H2O2_energies = energies_list02[9]\n",
    "C2H2_energies = energies_list02[10]\n",
    "N2H4_energies = energies_list02[11]\n",
    "H2N2_energies = energies_list02[12]\n",
    "# S03\n",
    "C3H8_energies = energies_list03[0]\n",
    "CH3_2_NH_energies = energies_list03[1]\n",
    "H3NCO_energies = energies_list03[2]\n",
    "H2CO2_energies = energies_list03[3]\n",
    "N2CH4_energies = energies_list03[4]\n",
    "ONCH3_energies = energies_list03[5]\n",
    "C3H4_energies = energies_list03[6]\n",
    "C3H6_energies = energies_list03[7]\n",
    "CCNH3_energies = energies_list03[8]\n",
    "C2OH4_energies = energies_list03[9]\n",
    "ONOH_energies = energies_list03[10]\n",
    "H2O3_energies = energies_list03[11]\n",
    "C2H6O_energies = energies_list03[12]\n",
    "C2NH7_energies = energies_list03[13]\n",
    "C2OH6_energies = energies_list03[14]\n",
    "C3H6_energies = energies_list03[15]\n",
    "CO2_energies = energies_list03[17] # ignore duplicate C2OH4 at index 16\n",
    "C2NH3_energies = energies_list03[18]\n",
    "CN2H4_energies = energies_list03[19]\n",
    "# S04\n",
    "\n",
    "\n",
    "\n",
    "# energies from 01, use for mini runs\n",
    "mini_energies =np.hstack((CH4_energies, NH3_energies, H2O_energies))\n",
    "\n",
    "all_energies_arr = np.hstack((CH4_energies, NH3_energies, H2O_energies, #end S01\n",
    "                         C2H6_energies, CH3NH2_energies, N2_energies, NH3O_energies, \n",
    "                         NHO_energies, CH3OH_energies, C2H4_energies, CH2O_energies, \n",
    "                         O2_energies, H2O2_energies, C2H2_energies, N2H4_energies, H2N2_energies)) #end S02\n",
    "\n",
    "type(mini_energies)"
   ]
  },
  {
   "cell_type": "markdown",
   "metadata": {},
   "source": [
    "Instantiate MBTR with parameters. I will look over the documentation and play with paarameters to improve my model."
   ]
  },
  {
   "cell_type": "code",
   "execution_count": 8,
   "metadata": {},
   "outputs": [],
   "source": [
    "from dscribe.descriptors import MBTR\n",
    "\n",
    "# INSTANTIATE MBTR. Comments here are from documentation\n",
    "mbtr = MBTR(\n",
    "    species=['H', 'C', 'O', 'N'],\n",
    "   # \"Notice that [species] is not the atomic numbers that are present for an individual system,\n",
    "   # but should contain all the elements that are ever going to be encountered when creating\n",
    "   # the descriptors for a set of systems.\"\n",
    "    geometry = {\"function\": \"distance\"}, # pairwise distance in angstroms\n",
    "    grid = {\"min\": 0, \"max\": 1, \"n\": 100, \"sigma\": 0.1}, # grid on which functions are computed\n",
    "    weighting = {\"function\": \"unity\", \"scale\": 0.5, \"threshold\": 1e-3}, # using unity (no weighting) for now just for dry run\n",
    "    periodic = False,\n",
    "    normalization = \"none\", # none, l2, num_atoms or valle_oganov\n",
    ")"
   ]
  },
  {
   "cell_type": "markdown",
   "metadata": {},
   "source": [
    "Create ASE Atoms of each compund."
   ]
  },
  {
   "cell_type": "code",
   "execution_count": 9,
   "metadata": {},
   "outputs": [],
   "source": [
    "# CREATE ASE ATOMS FOR EACH COMPOUND\n",
    "from ase import Atoms\n",
    "\n",
    "# S01\n",
    "CH4_atoms = []\n",
    "for i, CH4_coords in enumerate(CH4_coords_list):\n",
    "    CH4_coord = Atoms(\n",
    "        symbols = [\"C\", \"H\", \"H\", \"H\", \"H\"],\n",
    "        positions = CH4_coords\n",
    "    )\n",
    "    CH4_atoms.append(CH4_coord)\n",
    "\n",
    "NH3_atoms = []\n",
    "for i, NH3_coords in enumerate(NH3_coords_list):\n",
    "    NH3_coord = Atoms(\n",
    "        symbols = [\"N\", \"H\", \"H\", \"H\"],\n",
    "        positions = NH3_coords\n",
    "    )\n",
    "    NH3_atoms.append(NH3_coord)\n",
    "\n",
    "H2O_atoms = []\n",
    "for i, H2O_coords in enumerate(H2O_coords_list):\n",
    "    H2O_coord = Atoms(\n",
    "        symbols = [\"O\", \"H\", \"H\"],\n",
    "        positions = H2O_coords\n",
    "    )\n",
    "    H2O_atoms.append(H2O_coord)\n",
    "\n",
    "# S02\n",
    "C2H6_atoms = []\n",
    "for i, C2H6_coords in enumerate(C2H6_coords_list):\n",
    "    C2H6_coord = Atoms(\n",
    "        symbols = ['C', 'C', 'H', 'H', 'H', 'H', 'H', 'H'],\n",
    "        positions = C2H6_coords)\n",
    "    C2H6_atoms.append(C2H6_coord)\n",
    "\n",
    "CH3NH2_atoms = []\n",
    "for i, CH3NH2_coords in enumerate(CH3NH2_coords_list):\n",
    "    CH3NH2_coord = Atoms(\n",
    "        symbols = ['C', 'N', 'H', 'H', 'H', 'H', 'H'],\n",
    "        positions = CH3NH2_coords)\n",
    "    CH3NH2_atoms.append(CH3NH2_coord)\n",
    "\n",
    "N2_atoms = []\n",
    "for i, N2_coords in enumerate(N2_coords_list):\n",
    "    N2_coord = Atoms(\n",
    "        symbols = ['N', 'N'],\n",
    "        positions = N2_coords)\n",
    "    N2_atoms.append(N2_coord)\n",
    "\n",
    "NH3O_atoms = []\n",
    "for i, NH3O_coords in enumerate(NH3O_coords_list):\n",
    "    NH3O_coord = Atoms(\n",
    "        symbols = ['O', 'N', 'H', 'H', 'H'],\n",
    "        positions = NH3O_coords)\n",
    "    NH3O_atoms.append(NH3O_coord)\n",
    "\n",
    "NHO_atoms = []\n",
    "for i, NHO_coords in enumerate(NHO_coords_list):\n",
    "    NHO_coord = Atoms(\n",
    "        symbols = ['O', 'N', 'H'],\n",
    "        positions = NHO_coords)\n",
    "    NHO_atoms.append(NHO_coord)\n",
    "\n",
    "CH3OH_atoms = []\n",
    "for i, CH3OH_coords in enumerate(CH3OH_coords_list):\n",
    "    CH3OH_coord = Atoms(\n",
    "        symbols = ['C', 'O', 'H', 'H', 'H', 'H'],\n",
    "        positions = CH3OH_coords)\n",
    "    CH3OH_atoms.append(CH3OH_coord)\n",
    "\n",
    "C2H4_atoms = []\n",
    "for i, C2H4_coords in enumerate(C2H4_coords_list):\n",
    "    C2H4_coord = Atoms(\n",
    "        symbols = ['C', 'C', 'H', 'H', 'H', 'H'],\n",
    "        positions = C2H4_coords)\n",
    "    C2H4_atoms.append(C2H4_coord)\n",
    "\n",
    "CH2O_atoms = []\n",
    "for i, CH2O_coords in enumerate(CH2O_coords_list):\n",
    "    CH2O_coord = Atoms(\n",
    "        symbols = ['C', 'O', 'H', 'H'],\n",
    "        positions = CH2O_coords)\n",
    "    CH2O_atoms.append(CH2O_coord)\n",
    "\n",
    "O2_atoms = []\n",
    "for i, O2_coords in enumerate(O2_coords_list):\n",
    "    O2_coord = Atoms(\n",
    "        symbols = ['O', 'O'],\n",
    "        positions = O2_coords)\n",
    "    O2_atoms.append(O2_coord)\n",
    "\n",
    "H2O2_atoms = []\n",
    "for i, H2O2_coords in enumerate(H2O2_coords_list):\n",
    "    H2O2_coord = Atoms(\n",
    "        symbols = ['O', 'O', 'H', 'H'],\n",
    "        positions = H2O2_coords)\n",
    "    H2O2_atoms.append(H2O2_coord)\n",
    "\n",
    "C2H2_atoms = []\n",
    "for i, C2H2_coords in enumerate(C2H2_coords_list):\n",
    "    C2H2_coord = Atoms(\n",
    "        symbols = ['C', 'C', 'H', 'H'],\n",
    "        positions = C2H2_coords)\n",
    "    C2H2_atoms.append(C2H2_coord)\n",
    "\n",
    "N2H4_atoms = []\n",
    "for i, N2H4_coords in enumerate(N2H4_coords_list):\n",
    "    N2H4_coord = Atoms(\n",
    "        symbols = ['N', 'N', 'H', 'H', 'H', 'H'],\n",
    "        positions = N2H4_coords)\n",
    "    N2H4_atoms.append(N2H4_coord)\n",
    "\n",
    "H2N2_atoms = []\n",
    "for i, H2N2_coords in enumerate(H2N2_coords_list):\n",
    "    H2N2_coord = Atoms(\n",
    "        symbols = ['N', 'N', 'H', 'H'],\n",
    "        positions = H2N2_coords)\n",
    "    H2N2_atoms.append(H2N2_coord)\n",
    "\n",
    "# S03\n",
    "\n",
    "\n",
    "\n",
    "# S04\n",
    "\n",
    "#S05"
   ]
  },
  {
   "cell_type": "markdown",
   "metadata": {},
   "source": [
    "Create MBTR representations from ASE Atoms."
   ]
  },
  {
   "cell_type": "code",
   "execution_count": 10,
   "metadata": {},
   "outputs": [
    {
     "data": {
      "text/plain": [
       "True"
      ]
     },
     "execution_count": 10,
     "metadata": {},
     "output_type": "execute_result"
    }
   ],
   "source": [
    "# S01\n",
    "mbtr_CH4 = []\n",
    "for atom in CH4_atoms:\n",
    "    CH4_rep = mbtr.create(atom)\n",
    "    mbtr_CH4.append(CH4_rep)\n",
    "\n",
    "mbtr_NH3 = []\n",
    "for atom in NH3_atoms:\n",
    "    NH3_rep = mbtr.create(atom)\n",
    "    mbtr_NH3.append(NH3_rep)\n",
    "\n",
    "mbtr_H2O = []\n",
    "for atom in H2O_atoms:\n",
    "    H2O_rep = mbtr.create(atom)\n",
    "    mbtr_H2O.append(H2O_rep)\n",
    "\n",
    "# S02\n",
    "mbtr_C2H6 = []\n",
    "for atom in C2H6_atoms:\n",
    "    C2H6_rep = mbtr.create(atom)\n",
    "    mbtr_C2H6.append(C2H6_rep)\n",
    "\n",
    "mbtr_CH3NH2 = []\n",
    "for atom in CH3NH2_atoms:\n",
    "    CH3NH2_rep = mbtr.create(atom)\n",
    "    mbtr_CH3NH2.append(CH3NH2_rep)\n",
    "\n",
    "mbtr_N2 = []\n",
    "for atom in N2_atoms:\n",
    "    N2_rep = mbtr.create(atom)\n",
    "    mbtr_N2.append(N2_rep)\n",
    "\n",
    "mbtr_NH3O = []\n",
    "for atom in NH3O_atoms:\n",
    "    NH3O_rep = mbtr.create(atom)\n",
    "    mbtr_NH3O.append(NH3O_rep)\n",
    "\n",
    "mbtr_NHO = []\n",
    "for atom in NHO_atoms:\n",
    "    NHO_rep = mbtr.create(atom)\n",
    "    mbtr_NHO.append(NHO_rep)\n",
    "\n",
    "mbtr_CH3OH = []\n",
    "for atom in CH3OH_atoms:\n",
    "    CH3OH_rep = mbtr.create(atom)\n",
    "    mbtr_CH3OH.append(CH3OH_rep)\n",
    "\n",
    "mbtr_C2H4 = []\n",
    "for atom in C2H4_atoms:\n",
    "    C2H4_rep = mbtr.create(atom)\n",
    "    mbtr_C2H4.append(C2H4_rep)\n",
    "\n",
    "mbtr_CH2O = []\n",
    "for atom in CH2O_atoms:\n",
    "    CH2O_rep = mbtr.create(atom)\n",
    "    mbtr_CH2O.append(CH2O_rep)\n",
    "\n",
    "mbtr_O2 = []\n",
    "for atom in O2_atoms:\n",
    "    O2_rep = mbtr.create(atom)\n",
    "    mbtr_O2.append(O2_rep)\n",
    "\n",
    "mbtr_H2O2 = []\n",
    "for atom in H2O2_atoms:\n",
    "    H2O2_rep = mbtr.create(atom)\n",
    "    mbtr_H2O2.append(H2O2_rep)\n",
    "\n",
    "mbtr_C2H2 = []\n",
    "for atom in C2H2_atoms:\n",
    "    C2H2_rep = mbtr.create(atom)\n",
    "    mbtr_C2H2.append(C2H2_rep)\n",
    "\n",
    "mbtr_N2H4 = []\n",
    "for atom in N2H4_atoms:\n",
    "    N2H4_rep = mbtr.create(atom)\n",
    "    mbtr_N2H4.append(N2H4_rep)\n",
    "\n",
    "mbtr_H2N2 = []\n",
    "for atom in H2N2_atoms:\n",
    "    H2N2_rep = mbtr.create(atom)\n",
    "    mbtr_H2N2.append(H2N2_rep)\n",
    "\n",
    "# representations from 01 to use for mini runs\n",
    "mini_mbtr = mbtr_CH4 + mbtr_NH3 + mbtr_H2O\n",
    "\n",
    "# put all representation lists together\n",
    "mbtr_reps =  mbtr_CH4 + mbtr_NH3 + mbtr_H2O \\\n",
    "            + mbtr_C2H6 + mbtr_CH3NH2 + mbtr_N2 + mbtr_NH3O \\\n",
    "            + mbtr_NHO + mbtr_CH3OH + mbtr_C2H4 + mbtr_CH2O \\\n",
    "            + mbtr_O2 + mbtr_H2O2 + mbtr_C2H2 + mbtr_N2H4 \\\n",
    "            + mbtr_H2N2\n",
    "# change lists of representations to numpy arrays\n",
    "# mbtr_CH4 = np.array(mbtr_CH4)\n",
    "# mbtr_NH3 = np.array(mbtr_NH3)\n",
    "# mbtr_H2O = np.array(mbtr_H2O)\n",
    "mbtr_reps = np.array(mbtr_reps)\n",
    "\n",
    "# a few assert statements to make sure arrays are in order\n",
    "np.all(mbtr_reps[1] == mbtr_CH4[0])\n",
    "np.all(mbtr_reps[5400] == mbtr_NH3[0])\n",
    "np.all(mbtr_reps[9000] == mbtr_H2O[0])\n",
    "# all good"
   ]
  },
  {
   "cell_type": "markdown",
   "metadata": {},
   "source": [
    "### Ok! Now we have our encoded molecules and their energies. Split data into chunks and shuffle."
   ]
  },
  {
   "cell_type": "code",
   "execution_count": 19,
   "metadata": {},
   "outputs": [],
   "source": [
    "def create_chunks(complete_list, chunk_size=None, num_chunks=None):\n",
    "    '''\n",
    "    Cut a list into multiple chunks, each having chunk_size (the last chunk might be less than chunk_size) or having a total of num_chunk chunks\n",
    "    '''\n",
    "    chunks = []\n",
    "    if num_chunks is None:\n",
    "        num_chunks = math.ceil(len(complete_list) / chunk_size)\n",
    "    elif chunk_size is None:\n",
    "        chunk_size = math.ceil(len(complete_list) / num_chunks)\n",
    "    for i in range(num_chunks):\n",
    "        chunks.append(complete_list[i * chunk_size: (i + 1) * chunk_size])\n",
    "    return chunks\n",
    "\n",
    "\n",
    "# Shuffle the training data\n",
    "# define permutation index to make sure x values (features) are shuffled with their corresponding labels (y values)\n",
    "perm_index = np.random.permutation(len(mbtr_reps))\n",
    "# permute to predetermined indices\n",
    "mbtr_reps_perm = mbtr_reps[perm_index]\n",
    "energies_perm = all_energies_arr[perm_index]\n",
    "\n",
    "# split into 3 chunks\n",
    "representation_chunks = create_chunks(mbtr_reps_perm, num_chunks=3)\n",
    "energy_chunks = create_chunks(energies_perm, num_chunks=3)\n",
    "# make test data by combining two chunks\n",
    "test_molecules = np.concatenate(representation_chunks[0:2])\n",
    "test_energies = energy_chunks[0:2]\n",
    "# validation data is wan chunk\n",
    "val_molecules = np.array(representation_chunks[2])\n",
    "val_energies = energy_chunks[2]"
   ]
  },
  {
   "cell_type": "markdown",
   "metadata": {},
   "source": [
    "### Oliver said during class today to write my own Trainer class. I have not gotten a chance to do so, but I will work on that once I submit this."
   ]
  },
  {
   "cell_type": "code",
   "execution_count": 20,
   "metadata": {},
   "outputs": [],
   "source": [
    "# CLASS TO TRAIN MODEL\n",
    "class TrainerOld():\n",
    "    def __init__(self, model, optimizer_type, learning_rate, epoch, batch_size, input_transform=lambda x: x.reshape(-1, 1024)):\n",
    "        \"\"\"\n",
    "        A class for training the model\n",
    "        model: nn.Module\n",
    "            A pytorch model\n",
    "        optimizer_type: 'adam' or 'sgd'\n",
    "        learning_rate: float\n",
    "        epoch: int\n",
    "        batch_size: int\n",
    "        input_transform: func\n",
    "            Transforms the input data. Can be used to reshape data.\n",
    "        \"\"\"\n",
    "        self.model = model\n",
    "        if optimizer_type == \"sgd\":\n",
    "            self.optimizer = SGD(model.parameters(), learning_rate,momentum=0.9)\n",
    "        elif optimizer_type == \"Adam\":\n",
    "            self.optimizer = Adam(self.model.parameters(), lr=learning_rate)\n",
    "        self.epoch = epoch\n",
    "        self.batch_size = batch_size\n",
    "        self.input_transform = input_transform\n",
    "\n",
    "\n",
    "    def train(self, inputs, outputs, val_inputs, val_outputs,early_stop=False,l2=False,silent=False):\n",
    "        \"\"\" train self.model with specified arguments\n",
    "        inputs: np.array, The shape of input_transform(input) should be (ndata,nfeatures)\n",
    "        outputs: np.array shape (ndata,)\n",
    "        val_nputs: np.array, The shape of input_transform(val_input) should be (ndata,nfeatures)\n",
    "        val_outputs: np.array shape (ndata,)\n",
    "        early_stop: bool\n",
    "        l2: bool. Whether or not to use L2 regularization.\n",
    "        silent: bool. Controls whether or not to print the train and val error during training\n",
    "        \n",
    "        @return\n",
    "        a dictionary of arrays with train and val losses and accuracies\n",
    "        \"\"\"\n",
    "        ### convert data to tensor of correct shape and type here ###\n",
    "        #inputs = torch.tensor(inputs, dtype=torch.float)\n",
    "        # outputs = torch.tensor(outputs, dtype=torch.int64)\n",
    "        outputs = outputs.clone().detach().requires_grad_(True)\n",
    "        \n",
    "        losses = []\n",
    "        accuracies = []\n",
    "        val_losses = []\n",
    "        val_accuracies = []\n",
    "        weights = self.model.state_dict()\n",
    "        lowest_val_loss = np.inf\n",
    "        # use RMSE as loss function\n",
    "        loss_fn = nn.MSELoss()\n",
    "        loss_fn\n",
    "        \n",
    "        for n_epoch in tqdm(range(self.epoch), leave=False):\n",
    "            self.model.train()\n",
    "            # batch indices is number of input entries\n",
    "            batch_indices = list(range(inputs.shape[0]))\n",
    "            # shuffle batch indices\n",
    "            random.shuffle(batch_indices)\n",
    "            # create chunks\n",
    "            batch_indices = create_chunks(batch_indices, chunk_size=self.batch_size)\n",
    "            epoch_loss = 0\n",
    "            epoch_acc = 0\n",
    "            # Batch\n",
    "            for batch in batch_indices:\n",
    "                # proportion of the total output that is represented by that batch\n",
    "                batch_importance = len(batch) / len(outputs)\n",
    "                batch_input = inputs[batch]\n",
    "                batch_output = outputs[batch]\n",
    "                ### make prediction and compute loss with loss function of your choice on this batch ###\n",
    "                batch_predictions = self.model(batch_input)\n",
    "                loss = loss_fn(batch_predictions, batch_output)\n",
    "                if l2:\n",
    "                    ### Compute the loss with L2 regularization ###\n",
    "                    self.optimizer = Adam(self.model.parameters(), weight_decay= 1e-5)\n",
    "                self.optimizer.zero_grad() # sets the gradients of all model parameters to 0\n",
    "                loss.backward() # backpropagates\n",
    "                self.optimizer.step() # updates parameters based on gradients calculated in backprop\n",
    "                ### Compute epoch_loss and epoch_acc\n",
    "                # number of accurately predicted points / num points in batch * importance\n",
    "                acc = torch.argmax(batch_predictions, dim=1).eq(batch_output).sum().item() / len(batch_output) * batch_importance\n",
    "                epoch_loss += loss.item() * batch_importance\n",
    "                epoch_acc += acc\n",
    "            val_loss, val_acc = self.evaluate(val_inputs, val_outputs, print_acc=False)\n",
    "            if n_epoch % 10 ==0 and not silent: \n",
    "                print(\"Epoch %d/%d - Loss: %.3f - Acc: %.3f\" % (n_epoch + 1, self.epoch, epoch_loss, epoch_acc))\n",
    "                print(\"              Val_loss: %.3f - Val_acc: %.3f\" % (val_loss, val_acc))\n",
    "            losses.append(epoch_loss)\n",
    "            accuracies.append(epoch_acc)\n",
    "            val_losses.append(val_loss)\n",
    "            val_accuracies.append(val_acc)\n",
    "            if early_stop:\n",
    "                if val_loss < lowest_val_loss:\n",
    "                    lowest_val_loss = val_loss\n",
    "                    # saves current state of model's parameters to dict weights\n",
    "                    weights = self.model.state_dict()\n",
    "\n",
    "        if early_stop:\n",
    "            # loads saved parameters back into model\n",
    "            self.model.load_state_dict(weights)    \n",
    "        \n",
    "        # plot training and validation losses\n",
    "        plt.figure(figsize=(12,4))\n",
    "        #plt.subplot(1,2,1)\n",
    "        plt.plot(np.sqrt(losses), label='Training Loss')\n",
    "        plt.plot(np.sqrt(val_losses), label='Validation Loss')\n",
    "        plt.title('Training vs Validation Loss')\n",
    "        plt.xlabel('Epochs')\n",
    "        plt.ylabel('Loss')\n",
    "        plt.legend()\n",
    "        plt.show()\n",
    "\n",
    "        return {\"Training Losses\": losses, \"Validation Losses\": val_losses}\n",
    "        \n",
    "    def evaluate(self, inputs, outputs, print_acc=True):\n",
    "        \"\"\" \n",
    "        Evaluate model on provided input and output\n",
    "        inputs: np.array, The shape of input_transform(input) should be (ndata,nfeatures)\n",
    "        outputs: np.array shape (ndata,)\n",
    "        print_acc: bool\n",
    "        \n",
    "        @return\n",
    "        losses: float\n",
    "        acc: float\n",
    "        \"\"\"\n",
    "        #inputs = torch.tensor(inputs, dtype= torch.float)\n",
    "        inputs = inputs.clone().detach().requires_grad_(True)\n",
    "        #outputs = torch.tensor(outputs, dtype=torch.int64)\n",
    "        outputs = outputs.clone().detach().requires_grad_(True)\n",
    "\n",
    "        #inputs = inputs.reshape(-1, 1024)\n",
    "        #loss_fn = nn.CrossEntropyLoss()\n",
    "        loss_fn = nn.MSELoss()\n",
    "\n",
    "        self.model.eval()\n",
    "        batch_indices = list(range(inputs.shape[0]))\n",
    "        batch_indices = create_chunks(batch_indices, chunk_size=self.batch_size)\n",
    "        acc = 0\n",
    "        loss = 0\n",
    "\n",
    "        for batch in batch_indices:\n",
    "            batch_importance = len(batch) / len(outputs)\n",
    "            batch_input = inputs[batch]\n",
    "            batch_output = outputs[batch]\n",
    "            batch_predictions = self.model(batch_input)\n",
    "            with torch.no_grad():\n",
    "                # compute prediction and loss\n",
    "                batch_acc = torch.argmax(batch_predictions, dim=1).eq(batch_output).sum().item() / len(batch_output) * batch_importance\n",
    "                # how much \n",
    "                loss += loss_fn(batch_predictions, batch_output) * batch_importance\n",
    "                acc = acc + batch_acc\n",
    "\n",
    "        if print_acc:\n",
    "            print(\"Accuracy: %.3f\" % acc)\n",
    "        return loss, acc"
   ]
  },
  {
   "cell_type": "markdown",
   "metadata": {},
   "source": [
    "# trying new trainer below"
   ]
  },
  {
   "cell_type": "code",
   "execution_count": 34,
   "metadata": {},
   "outputs": [],
   "source": [
    "# CLASS TO TRAIN MODEL\n",
    "class TrainerNew():\n",
    "    def __init__(self, model, optimizer_type, learning_rate, epoch, input_transform=lambda x: x.reshape(-1, 1024)):\n",
    "        \"\"\"\n",
    "        A class for training the model\n",
    "        model: nn.Module\n",
    "            A PyTorch model\n",
    "        optimizer_type: 'adam' or 'sgd'\n",
    "        learning_rate: float\n",
    "        epoch: int\n",
    "        input_transform: func\n",
    "            Transforms the input data. Can be used to reshape data.\n",
    "        \"\"\"\n",
    "        self.model = model\n",
    "\n",
    "        if optimizer_type == \"sgd\":\n",
    "            self.optimizer = SGD(model.parameters(), learning_rate, momentum=0.9)\n",
    "        elif optimizer_type == \"Adam\":\n",
    "            self.optimizer = Adam(self.model.parameters(), lr=learning_rate)\n",
    "\n",
    "        self.epoch = epoch\n",
    "        self.input_transform = input_transform\n",
    "\n",
    "    def train(self, inputs, outputs, val_inputs, val_outputs, early_stop=False, l2=False, silent=False):\n",
    "        \"\"\"Train self.model with specified arguments\n",
    "        inputs: np.array, The shape of input_transform(input) should be (ndata, nfeatures)\n",
    "        outputs: np.array shape (ndata,)\n",
    "        val_inputs: np.array, The shape of input_transform(val_input) should be (ndata, nfeatures)\n",
    "        val_outputs: np.array shape (ndata,)\n",
    "        early_stop: bool\n",
    "        l2: bool. Whether or not to use L2 regularization.\n",
    "        silent: bool. Controls whether or not to print the train and val error during training\n",
    "        @return\n",
    "        a dictionary of arrays with train and val losses and accuracies\n",
    "        \"\"\"\n",
    "        ### convert data to tensor of correct shape and type here ###\n",
    "        outputs = outputs.clone().detach().requires_grad_(True)\n",
    "\n",
    "        losses = []\n",
    "        accuracies = []\n",
    "        val_losses = []\n",
    "        val_accuracies = []\n",
    "        weights = self.model.state_dict()\n",
    "        lowest_val_loss = np.inf\n",
    "        # use RMSE as loss function\n",
    "        loss_fn = nn.MSELoss()\n",
    "\n",
    "        for n_epoch in tqdm(range(self.epoch), leave=False):\n",
    "            self.model.train()\n",
    "            # create indices\n",
    "            indices = list(range(inputs.shape[0]))\n",
    "            # shuffle indices\n",
    "            random.shuffle(indices)\n",
    "\n",
    "            epoch_loss = 0\n",
    "            epoch_acc = 0\n",
    "\n",
    "            # Batch\n",
    "            for index in indices:\n",
    "                input_data = inputs[index]\n",
    "                output_data = outputs[index]\n",
    "\n",
    "                # make prediction and compute loss with loss function of your choice on this batch\n",
    "                prediction = self.model(input_data)\n",
    "                loss = loss_fn(prediction, output_data)\n",
    "\n",
    "                if l2:\n",
    "                    # Compute the loss with L2 regularization\n",
    "                    self.optimizer = Adam(self.model.parameters(), weight_decay=1e-5)\n",
    "\n",
    "                self.optimizer.zero_grad()  # sets the gradients of all model parameters to 0\n",
    "                loss.backward()  # backpropagates\n",
    "                self.optimizer.step()  # updates parameters based on gradients calculated in backprop\n",
    "\n",
    "                # Compute epoch_loss and epoch_acc\n",
    "                acc = torch.argmax(prediction, dim=0).eq(output_data).sum().item() / len(output_data)\n",
    "                epoch_loss += loss.item()\n",
    "                epoch_acc += acc\n",
    "\n",
    "            val_loss, val_acc = self.evaluate(val_inputs, val_outputs, print_acc=False)\n",
    "\n",
    "            if n_epoch % 10 == 0 and not silent:\n",
    "                print(\"Epoch %d/%d - Loss: %.3f - Acc: %.3f\" % (n_epoch + 1, self.epoch, epoch_loss, epoch_acc))\n",
    "                print(\"              Val_loss: %.3f - Val_acc: %.3f\" % (val_loss, val_acc))\n",
    "\n",
    "            losses.append(epoch_loss)\n",
    "            accuracies.append(epoch_acc)\n",
    "            val_losses.append(val_loss)\n",
    "            val_accuracies.append(val_acc)\n",
    "\n",
    "            if early_stop:\n",
    "                if val_loss < lowest_val_loss:\n",
    "                    lowest_val_loss = val_loss\n",
    "                    # saves current state of model's parameters to dict weights\n",
    "                    weights = self.model.state_dict()\n",
    "\n",
    "        if early_stop:\n",
    "            # loads saved parameters back into model\n",
    "            self.model.load_state_dict(weights)\n",
    "\n",
    "        # plot training and validation losses\n",
    "        plt.figure(figsize=(12, 4))\n",
    "        plt.plot(np.sqrt(losses), label='Training Loss')\n",
    "        plt.plot(np.sqrt(val_losses), label='Validation Loss')\n",
    "        plt.title('Training vs Validation Loss')\n",
    "        plt.xlabel('Epochs')\n",
    "        plt.ylabel('Loss')\n",
    "        plt.legend()\n",
    "        plt.show()\n",
    "\n",
    "        return {\"Training Losses\": losses, \"Validation Losses\": val_losses}\n",
    "\n",
    "    def evaluate(self, inputs, outputs, print_acc=True):\n",
    "        \"\"\"\n",
    "        Evaluate model on provided input and output\n",
    "        inputs: np.array, The shape of input_transform(input) should be (ndata, nfeatures)\n",
    "        outputs: np.array shape (ndata,)\n",
    "        print_acc: bool\n",
    "        @return\n",
    "        losses: float\n",
    "        acc: float\n",
    "        \"\"\"\n",
    "        inputs = inputs.clone().detach().requires_grad_(True)\n",
    "        outputs = outputs.clone().detach().requires_grad_(True)\n",
    "\n",
    "        loss_fn = nn.MSELoss()\n",
    "\n",
    "        self.model.eval()\n",
    "\n",
    "        # compute prediction and loss\n",
    "        prediction = self.model(inputs)\n",
    "        loss = loss_fn(prediction, outputs)\n",
    "\n",
    "        # Compute accuracy\n",
    "        acc = torch.argmax(prediction, dim=0).eq(outputs).sum().item() / len(outputs)\n",
    "\n",
    "        if print_acc:\n",
    "            print(\"Accuracy: %.3f\" % acc)\n",
    "\n",
    "        return loss, acc"
   ]
  },
  {
   "cell_type": "markdown",
   "metadata": {},
   "source": [
    "# building ANN\n",
    "\n",
    "see paper: https://pubs.rsc.org/en/content/articlelanding/2017/sc/c6sc05720a , section 3.4. The quote below is taken directly from the paper.\n",
    "\n",
    "\"Generally, 3 to 4 hidden layer networks with between 32 and 128 nodes per layer performed the best...768 input values followed by a 128-node hidden layer followed by another hidden layer with 128 nodes, a 64-node hidden layer, and finally a single output node...the output node uses a linear activation function. The weights are randomly initialized from a normal distribution...bias parameters are all initialized to zero.\""
   ]
  },
  {
   "cell_type": "code",
   "execution_count": 35,
   "metadata": {},
   "outputs": [],
   "source": [
    "class ANN1(nn.Module):\n",
    "    def __init__(self):\n",
    "        super(ANN1, self).__init__()\n",
    "        # 768 inputs to 128 node hidden layer\n",
    "        self.hidden_layer1 = torch.nn.Linear(1000, 128)\n",
    "        # 128 nodes to 128 nodes\n",
    "        self.hidden_layer2 = torch.nn.Linear(128, 128)\n",
    "        # 128 nodes to 64 nodes\n",
    "        self.hidden_layer3 = torch.nn.Linear(128, 64)\n",
    "        # 64 nodes to 1 output node\n",
    "        self.output_layer = torch.nn.Linear(64, 1)\n",
    "        # activation function\n",
    "        self.activation = F.relu\n",
    "\n",
    "        self.init_weights()\n",
    "\n",
    "    # Initialize weights from a normal distribution and biases to zero\n",
    "    # I am not sure this is the right way to do it!\n",
    "    def init_weights(self):\n",
    "        for layer in [self.hidden_layer1, self.hidden_layer2, self.hidden_layer3, self.output_layer]:\n",
    "            nn.init.normal_(layer.weight, mean=0, std=0.01)\n",
    "            nn.init.constant_(layer.bias, 0)\n",
    "\n",
    "    def forward(self, x0):\n",
    "        x1 = self.activation(self.hidden_layer1(x0))\n",
    "        x2 = self.activation(self.hidden_layer2(x1))\n",
    "        x3 = self.activation(self.hidden_layer3(x2))\n",
    "        x4 = self.output_layer(x3)\n",
    "        \n",
    "        return x4.float()"
   ]
  },
  {
   "cell_type": "markdown",
   "metadata": {},
   "source": [
    "## Finally; let's get it running!\n",
    "\n",
    "### We'll try the ANN first\n",
    "\n",
    "## old trainer"
   ]
  },
  {
   "cell_type": "code",
   "execution_count": 28,
   "metadata": {},
   "outputs": [
    {
     "name": "stderr",
     "output_type": "stream",
     "text": [
      "/var/folders/m8/skfw9g2x4_g4pq5cv80_g24w0000gn/T/ipykernel_6137/646251200.py:11: UserWarning: Creating a tensor from a list of numpy.ndarrays is extremely slow. Please consider converting the list to a single numpy.ndarray with numpy.array() before converting to a tensor. (Triggered internally at /Users/runner/work/pytorch/pytorch/pytorch/torch/csrc/utils/tensor_new.cpp:264.)\n",
      "  test_energies = torch.FloatTensor(test_energies).view(-1, 1)\n",
      "  2%|▎         | 1/40 [00:05<03:28,  5.35s/it]"
     ]
    },
    {
     "name": "stdout",
     "output_type": "stream",
     "text": [
      "Epoch 1/40 - Loss: 682.715 - Acc: 0.000\n",
      "              Val_loss: 369.432 - Val_acc: 0.000\n"
     ]
    },
    {
     "name": "stderr",
     "output_type": "stream",
     "text": [
      " 28%|██▊       | 11/40 [00:56<02:22,  4.91s/it]"
     ]
    },
    {
     "name": "stdout",
     "output_type": "stream",
     "text": [
      "Epoch 11/40 - Loss: 185.376 - Acc: 0.000\n",
      "              Val_loss: 180.142 - Val_acc: 0.000\n"
     ]
    },
    {
     "name": "stderr",
     "output_type": "stream",
     "text": [
      " 52%|█████▎    | 21/40 [01:44<01:32,  4.85s/it]"
     ]
    },
    {
     "name": "stdout",
     "output_type": "stream",
     "text": [
      "Epoch 21/40 - Loss: 151.814 - Acc: 0.000\n",
      "              Val_loss: 150.599 - Val_acc: 0.000\n"
     ]
    },
    {
     "name": "stderr",
     "output_type": "stream",
     "text": [
      " 78%|███████▊  | 31/40 [02:33<00:44,  4.94s/it]"
     ]
    },
    {
     "name": "stdout",
     "output_type": "stream",
     "text": [
      "Epoch 31/40 - Loss: 137.231 - Acc: 0.000\n",
      "              Val_loss: 130.642 - Val_acc: 0.000\n"
     ]
    },
    {
     "name": "stderr",
     "output_type": "stream",
     "text": [
      "                                               \r"
     ]
    },
    {
     "data": {
      "image/png": "[encoded data removed]",
      "text/plain": [
       "<Figure size 1200x400 with 1 Axes>"
      ]
     },
     "metadata": {},
     "output_type": "display_data"
    },
    {
     "name": "stderr",
     "output_type": "stream",
     "text": [
      "  2%|▎         | 1/40 [00:05<03:25,  5.27s/it]"
     ]
    },
    {
     "name": "stdout",
     "output_type": "stream",
     "text": [
      "Epoch 1/40 - Loss: 629.779 - Acc: 0.000\n",
      "              Val_loss: 293.123 - Val_acc: 0.000\n"
     ]
    },
    {
     "name": "stderr",
     "output_type": "stream",
     "text": [
      " 28%|██▊       | 11/40 [00:55<02:27,  5.09s/it]"
     ]
    },
    {
     "name": "stdout",
     "output_type": "stream",
     "text": [
      "Epoch 11/40 - Loss: 176.722 - Acc: 0.000\n",
      "              Val_loss: 170.678 - Val_acc: 0.000\n"
     ]
    },
    {
     "name": "stderr",
     "output_type": "stream",
     "text": [
      " 52%|█████▎    | 21/40 [01:46<01:34,  4.96s/it]"
     ]
    },
    {
     "name": "stdout",
     "output_type": "stream",
     "text": [
      "Epoch 21/40 - Loss: 150.969 - Acc: 0.000\n",
      "              Val_loss: 139.359 - Val_acc: 0.000\n"
     ]
    },
    {
     "name": "stderr",
     "output_type": "stream",
     "text": [
      " 78%|███████▊  | 31/40 [02:31<00:40,  4.54s/it]"
     ]
    },
    {
     "name": "stdout",
     "output_type": "stream",
     "text": [
      "Epoch 31/40 - Loss: 138.290 - Acc: 0.000\n",
      "              Val_loss: 143.412 - Val_acc: 0.000\n"
     ]
    },
    {
     "name": "stderr",
     "output_type": "stream",
     "text": [
      "                                               \r"
     ]
    },
    {
     "data": {
      "image/png": "[encoded data removed]",
      "text/plain": [
       "<Figure size 1200x400 with 1 Axes>"
      ]
     },
     "metadata": {},
     "output_type": "display_data"
    },
    {
     "name": "stderr",
     "output_type": "stream",
     "text": [
      "  2%|▎         | 1/40 [00:04<03:08,  4.83s/it]"
     ]
    },
    {
     "name": "stdout",
     "output_type": "stream",
     "text": [
      "Epoch 1/40 - Loss: 668.806 - Acc: 0.000\n",
      "              Val_loss: 368.894 - Val_acc: 0.000\n"
     ]
    },
    {
     "name": "stderr",
     "output_type": "stream",
     "text": [
      " 28%|██▊       | 11/40 [00:54<02:23,  4.95s/it]"
     ]
    },
    {
     "name": "stdout",
     "output_type": "stream",
     "text": [
      "Epoch 11/40 - Loss: 179.471 - Acc: 0.000\n",
      "              Val_loss: 179.314 - Val_acc: 0.000\n"
     ]
    },
    {
     "name": "stderr",
     "output_type": "stream",
     "text": [
      " 52%|█████▎    | 21/40 [01:42<01:31,  4.80s/it]"
     ]
    },
    {
     "name": "stdout",
     "output_type": "stream",
     "text": [
      "Epoch 21/40 - Loss: 151.729 - Acc: 0.000\n",
      "              Val_loss: 147.747 - Val_acc: 0.000\n"
     ]
    },
    {
     "name": "stderr",
     "output_type": "stream",
     "text": [
      " 78%|███████▊  | 31/40 [02:30<00:43,  4.80s/it]"
     ]
    },
    {
     "name": "stdout",
     "output_type": "stream",
     "text": [
      "Epoch 31/40 - Loss: 135.604 - Acc: 0.000\n",
      "              Val_loss: 134.382 - Val_acc: 0.000\n"
     ]
    },
    {
     "name": "stderr",
     "output_type": "stream",
     "text": [
      "                                               \r"
     ]
    },
    {
     "data": {
      "image/png": "[encoded data removed]",
      "text/plain": [
       "<Figure size 1200x400 with 1 Axes>"
      ]
     },
     "metadata": {},
     "output_type": "display_data"
    }
   ],
   "source": [
    "kf = KFold(3, shuffle=True, random_state=49)\n",
    "\n",
    "for idx, (train_index, val_index) in enumerate(kf.split(mbtr_reps)):\n",
    "    X_train_fold, X_val_fold = mbtr_reps[train_index], mbtr_reps[val_index]\n",
    "    y_train_fold, y_val_fold = all_energies_arr[train_index], all_energies_arr[val_index]\n",
    "    # convert to single NumPy array\n",
    "    #test_energies = np.concatenate(test_energies)\n",
    "    # convert tensor types to float\n",
    "    test_molecules = torch.FloatTensor(test_molecules)\n",
    "    val_molecules = torch.FloatTensor(val_molecules)\n",
    "    test_energies = torch.FloatTensor(test_energies).view(-1, 1)\n",
    "    val_energies = torch.FloatTensor(val_energies).view(-1, 1)\n",
    "\n",
    "    model1 = ANN1()\n",
    "    model1.fc4 = nn.Linear(64, 1)\n",
    "    train_model1 = TrainerOld(model=model1, optimizer_type=\"Adam\", learning_rate=1e-3, epoch=40, batch_size=10)\n",
    "    model1_results = train_model1.train(test_molecules, test_energies, val_molecules, val_energies, l2=False)"
   ]
  },
  {
   "cell_type": "markdown",
   "metadata": {},
   "source": [
    "## new trainer"
   ]
  },
  {
   "cell_type": "code",
   "execution_count": 36,
   "metadata": {},
   "outputs": [
    {
     "name": "stderr",
     "output_type": "stream",
     "text": [
      "  2%|▎         | 1/40 [02:05<1:21:46, 125.80s/it]"
     ]
    },
    {
     "name": "stdout",
     "output_type": "stream",
     "text": [
      "Epoch 1/40 - Loss: 20132015.705 - Acc: 0.000\n",
      "              Val_loss: 300.089 - Val_acc: 0.000\n"
     ]
    },
    {
     "name": "stderr",
     "output_type": "stream",
     "text": [
      " 28%|██▊       | 11/40 [24:25<1:00:41, 125.56s/it]"
     ]
    },
    {
     "name": "stdout",
     "output_type": "stream",
     "text": [
      "Epoch 11/40 - Loss: 6747008.205 - Acc: 0.000\n",
      "              Val_loss: 170.799 - Val_acc: 0.000\n"
     ]
    },
    {
     "name": "stderr",
     "output_type": "stream",
     "text": [
      " 52%|█████▎    | 21/40 [41:47<29:18, 92.55s/it]   "
     ]
    },
    {
     "name": "stdout",
     "output_type": "stream",
     "text": [
      "Epoch 21/40 - Loss: 6092901.388 - Acc: 0.000\n",
      "              Val_loss: 147.800 - Val_acc: 0.000\n"
     ]
    },
    {
     "name": "stderr",
     "output_type": "stream",
     "text": [
      " 78%|███████▊  | 31/40 [52:49<07:11, 47.97s/it]"
     ]
    },
    {
     "name": "stdout",
     "output_type": "stream",
     "text": [
      "Epoch 31/40 - Loss: 5634244.558 - Acc: 0.000\n",
      "              Val_loss: 130.532 - Val_acc: 0.000\n"
     ]
    },
    {
     "name": "stderr",
     "output_type": "stream",
     "text": [
      "                                               \r"
     ]
    },
    {
     "ename": "RuntimeError",
     "evalue": "Can't call numpy() on Tensor that requires grad. Use tensor.detach().numpy() instead.",
     "output_type": "error",
     "traceback": [
      "\u001b[0;31m---------------------------------------------------------------------------\u001b[0m",
      "\u001b[0;31mRuntimeError\u001b[0m                              Traceback (most recent call last)",
      "Cell \u001b[0;32mIn[36], line 17\u001b[0m\n\u001b[1;32m     15\u001b[0m model1\u001b[39m.\u001b[39mfc4 \u001b[39m=\u001b[39m nn\u001b[39m.\u001b[39mLinear(\u001b[39m64\u001b[39m, \u001b[39m1\u001b[39m)\n\u001b[1;32m     16\u001b[0m train_model1 \u001b[39m=\u001b[39m TrainerNew(model\u001b[39m=\u001b[39mmodel1, optimizer_type\u001b[39m=\u001b[39m\u001b[39m\"\u001b[39m\u001b[39mAdam\u001b[39m\u001b[39m\"\u001b[39m, learning_rate\u001b[39m=\u001b[39m\u001b[39m1e-3\u001b[39m, epoch\u001b[39m=\u001b[39m\u001b[39m40\u001b[39m)\n\u001b[0;32m---> 17\u001b[0m model1_results \u001b[39m=\u001b[39m train_model1\u001b[39m.\u001b[39;49mtrain(test_molecules, test_energies, val_molecules, val_energies, l2\u001b[39m=\u001b[39;49m\u001b[39mFalse\u001b[39;49;00m)\n",
      "Cell \u001b[0;32mIn[34], line 104\u001b[0m, in \u001b[0;36mTrainerNew.train\u001b[0;34m(self, inputs, outputs, val_inputs, val_outputs, early_stop, l2, silent)\u001b[0m\n\u001b[1;32m    102\u001b[0m plt\u001b[39m.\u001b[39mfigure(figsize\u001b[39m=\u001b[39m(\u001b[39m12\u001b[39m, \u001b[39m4\u001b[39m))\n\u001b[1;32m    103\u001b[0m plt\u001b[39m.\u001b[39mplot(np\u001b[39m.\u001b[39msqrt(losses), label\u001b[39m=\u001b[39m\u001b[39m'\u001b[39m\u001b[39mTraining Loss\u001b[39m\u001b[39m'\u001b[39m)\n\u001b[0;32m--> 104\u001b[0m plt\u001b[39m.\u001b[39mplot(np\u001b[39m.\u001b[39;49msqrt(val_losses), label\u001b[39m=\u001b[39m\u001b[39m'\u001b[39m\u001b[39mValidation Loss\u001b[39m\u001b[39m'\u001b[39m)\n\u001b[1;32m    105\u001b[0m plt\u001b[39m.\u001b[39mtitle(\u001b[39m'\u001b[39m\u001b[39mTraining vs Validation Loss\u001b[39m\u001b[39m'\u001b[39m)\n\u001b[1;32m    106\u001b[0m plt\u001b[39m.\u001b[39mxlabel(\u001b[39m'\u001b[39m\u001b[39mEpochs\u001b[39m\u001b[39m'\u001b[39m)\n",
      "File \u001b[0;32m~/miniconda3/envs/chem277b/lib/python3.11/site-packages/torch/_tensor.py:1030\u001b[0m, in \u001b[0;36mTensor.__array__\u001b[0;34m(self, dtype)\u001b[0m\n\u001b[1;32m   1028\u001b[0m     \u001b[39mreturn\u001b[39;00m handle_torch_function(Tensor\u001b[39m.\u001b[39m__array__, (\u001b[39mself\u001b[39m,), \u001b[39mself\u001b[39m, dtype\u001b[39m=\u001b[39mdtype)\n\u001b[1;32m   1029\u001b[0m \u001b[39mif\u001b[39;00m dtype \u001b[39mis\u001b[39;00m \u001b[39mNone\u001b[39;00m:\n\u001b[0;32m-> 1030\u001b[0m     \u001b[39mreturn\u001b[39;00m \u001b[39mself\u001b[39;49m\u001b[39m.\u001b[39;49mnumpy()\n\u001b[1;32m   1031\u001b[0m \u001b[39melse\u001b[39;00m:\n\u001b[1;32m   1032\u001b[0m     \u001b[39mreturn\u001b[39;00m \u001b[39mself\u001b[39m\u001b[39m.\u001b[39mnumpy()\u001b[39m.\u001b[39mastype(dtype, copy\u001b[39m=\u001b[39m\u001b[39mFalse\u001b[39;00m)\n",
      "\u001b[0;31mRuntimeError\u001b[0m: Can't call numpy() on Tensor that requires grad. Use tensor.detach().numpy() instead."
     ]
    },
    {
     "data": {
      "image/png": "[encoded data removed]",
      "text/plain": [
       "<Figure size 1200x400 with 1 Axes>"
      ]
     },
     "metadata": {},
     "output_type": "display_data"
    }
   ],
   "source": [
    "kf = KFold(3, shuffle=True, random_state=49)\n",
    "\n",
    "for idx, (train_index, val_index) in enumerate(kf.split(mbtr_reps)):\n",
    "    X_train_fold, X_val_fold = mbtr_reps[train_index], mbtr_reps[val_index]\n",
    "    y_train_fold, y_val_fold = all_energies_arr[train_index], all_energies_arr[val_index]\n",
    "    # convert to single NumPy array\n",
    "    #test_energies = np.concatenate(test_energies)\n",
    "    # convert tensor types to float\n",
    "    test_molecules = torch.FloatTensor(test_molecules)\n",
    "    val_molecules = torch.FloatTensor(val_molecules)\n",
    "    test_energies = torch.FloatTensor(test_energies).view(-1, 1)\n",
    "    val_energies = torch.FloatTensor(val_energies).view(-1, 1)\n",
    "\n",
    "    model1 = ANN1()\n",
    "    model1.fc4 = nn.Linear(64, 1)\n",
    "    train_model1 = TrainerNew(model=model1, optimizer_type=\"Adam\", learning_rate=1e-3, epoch=40)\n",
    "    model1_results = train_model1.train(test_molecules, test_energies, val_molecules, val_energies, l2=False)"
   ]
  },
  {
   "cell_type": "markdown",
   "metadata": {},
   "source": [
    "### Next we try the ResNet\n",
    "\n",
    "I added another layer to the resnet (giving it 4 hidden layers total) because I thought the impact of the residual would be better seen with more hidden layers. Does this make my ANN and RNN are less comparable now?"
   ]
  },
  {
   "cell_type": "code",
   "execution_count": 153,
   "metadata": {},
   "outputs": [],
   "source": [
    "class RNN(nn.Module):\n",
    "    def __init__(self):\n",
    "        super(RNN, self).__init__()\n",
    "        # 768 inputs to 128 node hidden layer\n",
    "        self.hidden_layer1 = torch.nn.Linear(1000, 128)\n",
    "        # 128 nodes to 128 nodes\n",
    "        self.hidden_layer2 = torch.nn.Linear(128, 128)\n",
    "        # 128 nodes to 128 nodes\n",
    "        self.hidden_layer3 = torch.nn.Linear(128, 128)\n",
    "        # 128 nodes to 64 nodes\n",
    "        self.hidden_layer4 = torch.nn.Linear(128, 64)\n",
    "        # 64 nodes to 1 output node\n",
    "        self.output_layer = torch.nn.Linear(64, 1)\n",
    "        # activation function\n",
    "        self.activation = F.relu\n",
    "\n",
    "        self.init_weights()\n",
    "\n",
    "    # Initialize weights from a normal distribution and biases to zero\n",
    "    # I am not sure this is the right way to do it!\n",
    "    def init_weights(self):\n",
    "        for layer in [self.hidden_layer1, self.hidden_layer2, self.hidden_layer3, self.output_layer]:\n",
    "            nn.init.normal_(layer.weight, mean=0, std=0.01)\n",
    "            nn.init.constant_(layer.bias, 0)\n",
    "\n",
    "    def forward(self, x0):\n",
    "        x1 = self.activation(self.hidden_layer1(x0))\n",
    "         # define residual as output of second layer\n",
    "        res = x1\n",
    "        x2 = self.activation(self.hidden_layer2(x1))\n",
    "        x3 = self.activation(self.hidden_layer3(x2))\n",
    "        # add residual to output from 4th layer\n",
    "        x3 = x3 + res\n",
    "        x4 = self.activation(self.hidden_layer4(x3))\n",
    "        # don't activate output layer\n",
    "        x5 = self.output_layer(x4)\n",
    "        \n",
    "        return x5.float()"
   ]
  },
  {
   "cell_type": "code",
   "execution_count": 155,
   "metadata": {},
   "outputs": [
    {
     "name": "stderr",
     "output_type": "stream",
     "text": [
      "  2%|▎         | 1/40 [00:09<05:59,  9.22s/it]"
     ]
    },
    {
     "name": "stdout",
     "output_type": "stream",
     "text": [
      "Epoch 1/40 - Loss: 498.413 - Acc: 0.000\n",
      "              Val_loss: 354.265 - Val_acc: 0.000\n"
     ]
    },
    {
     "name": "stderr",
     "output_type": "stream",
     "text": [
      " 28%|██▊       | 11/40 [01:39<04:30,  9.33s/it]"
     ]
    },
    {
     "name": "stdout",
     "output_type": "stream",
     "text": [
      "Epoch 11/40 - Loss: 159.138 - Acc: 0.000\n",
      "              Val_loss: 144.654 - Val_acc: 0.000\n"
     ]
    },
    {
     "name": "stderr",
     "output_type": "stream",
     "text": [
      " 52%|█████▎    | 21/40 [03:12<02:57,  9.33s/it]"
     ]
    },
    {
     "name": "stdout",
     "output_type": "stream",
     "text": [
      "Epoch 21/40 - Loss: 141.951 - Acc: 0.000\n",
      "              Val_loss: 122.018 - Val_acc: 0.000\n"
     ]
    },
    {
     "name": "stderr",
     "output_type": "stream",
     "text": [
      " 78%|███████▊  | 31/40 [04:43<01:21,  9.03s/it]"
     ]
    },
    {
     "name": "stdout",
     "output_type": "stream",
     "text": [
      "Epoch 31/40 - Loss: 134.535 - Acc: 0.000\n",
      "              Val_loss: 124.102 - Val_acc: 0.000\n"
     ]
    },
    {
     "name": "stderr",
     "output_type": "stream",
     "text": [
      "                                               \r"
     ]
    },
    {
     "data": {
      "image/png": "[encoded data removed]",
      "text/plain": [
       "<Figure size 1200x400 with 1 Axes>"
      ]
     },
     "metadata": {},
     "output_type": "display_data"
    },
    {
     "name": "stderr",
     "output_type": "stream",
     "text": [
      "  2%|▎         | 1/40 [00:08<05:19,  8.18s/it]"
     ]
    },
    {
     "name": "stdout",
     "output_type": "stream",
     "text": [
      "Epoch 1/40 - Loss: 531.729 - Acc: 0.000\n",
      "              Val_loss: 339.941 - Val_acc: 0.000\n"
     ]
    },
    {
     "name": "stderr",
     "output_type": "stream",
     "text": [
      " 28%|██▊       | 11/40 [01:28<03:47,  7.84s/it]"
     ]
    },
    {
     "name": "stdout",
     "output_type": "stream",
     "text": [
      "Epoch 11/40 - Loss: 161.928 - Acc: 0.000\n",
      "              Val_loss: 151.581 - Val_acc: 0.000\n"
     ]
    },
    {
     "name": "stderr",
     "output_type": "stream",
     "text": [
      " 52%|█████▎    | 21/40 [02:51<02:40,  8.44s/it]"
     ]
    },
    {
     "name": "stdout",
     "output_type": "stream",
     "text": [
      "Epoch 21/40 - Loss: 139.682 - Acc: 0.000\n",
      "              Val_loss: 152.963 - Val_acc: 0.000\n"
     ]
    },
    {
     "name": "stderr",
     "output_type": "stream",
     "text": [
      " 78%|███████▊  | 31/40 [04:15<01:15,  8.43s/it]"
     ]
    },
    {
     "name": "stdout",
     "output_type": "stream",
     "text": [
      "Epoch 31/40 - Loss: 137.202 - Acc: 0.000\n",
      "              Val_loss: 120.329 - Val_acc: 0.000\n"
     ]
    },
    {
     "name": "stderr",
     "output_type": "stream",
     "text": [
      "                                               \r"
     ]
    },
    {
     "data": {
      "image/png": "[encoded data removed]",
      "text/plain": [
       "<Figure size 1200x400 with 1 Axes>"
      ]
     },
     "metadata": {},
     "output_type": "display_data"
    },
    {
     "name": "stderr",
     "output_type": "stream",
     "text": [
      "  2%|▎         | 1/40 [00:09<06:04,  9.36s/it]"
     ]
    },
    {
     "name": "stdout",
     "output_type": "stream",
     "text": [
      "Epoch 1/40 - Loss: 499.294 - Acc: 0.000\n",
      "              Val_loss: 299.831 - Val_acc: 0.000\n"
     ]
    },
    {
     "name": "stderr",
     "output_type": "stream",
     "text": [
      " 28%|██▊       | 11/40 [01:32<03:51,  7.98s/it]"
     ]
    },
    {
     "name": "stdout",
     "output_type": "stream",
     "text": [
      "Epoch 11/40 - Loss: 158.161 - Acc: 0.000\n",
      "              Val_loss: 145.964 - Val_acc: 0.000\n"
     ]
    },
    {
     "name": "stderr",
     "output_type": "stream",
     "text": [
      " 52%|█████▎    | 21/40 [02:58<02:44,  8.63s/it]"
     ]
    },
    {
     "name": "stdout",
     "output_type": "stream",
     "text": [
      "Epoch 21/40 - Loss: 139.857 - Acc: 0.000\n",
      "              Val_loss: 119.132 - Val_acc: 0.000\n"
     ]
    },
    {
     "name": "stderr",
     "output_type": "stream",
     "text": [
      " 78%|███████▊  | 31/40 [04:26<01:23,  9.30s/it]"
     ]
    },
    {
     "name": "stdout",
     "output_type": "stream",
     "text": [
      "Epoch 31/40 - Loss: 136.912 - Acc: 0.000\n",
      "              Val_loss: 157.159 - Val_acc: 0.000\n"
     ]
    },
    {
     "name": "stderr",
     "output_type": "stream",
     "text": [
      "                                               \r"
     ]
    },
    {
     "data": {
      "image/png": "[encoded data removed]",
      "text/plain": [
       "<Figure size 1200x400 with 1 Axes>"
      ]
     },
     "metadata": {},
     "output_type": "display_data"
    }
   ],
   "source": [
    "kf = KFold(3, shuffle=True, random_state=49)\n",
    "\n",
    "for idx, (train_index, val_index) in enumerate(kf.split(mbtr_reps)):\n",
    "    X_train_fold, X_val_fold = mbtr_reps[train_index], mbtr_reps[val_index]\n",
    "    y_train_fold, y_val_fold = all_energies[train_index], all_energies[val_index]\n",
    "    # convert tensor types to float\n",
    "    test_molecules = torch.FloatTensor(test_molecules)\n",
    "    val_molecules = torch.FloatTensor(val_molecules)\n",
    "    test_energies = torch.FloatTensor(test_energies).view(-1, 1)\n",
    "    val_energies = torch.FloatTensor(val_energies).view(-1, 1)\n",
    "\n",
    "    model1 = RNN()\n",
    "    model1.fc4 = nn.Linear(64, 1)\n",
    "    train_model1 = TrainerOld(model=model1, optimizer_type=\"Adam\", learning_rate=1e-3, epoch=40, batch_size=5)\n",
    "    model1_results = train_model1.train(test_molecules, test_energies, val_molecules, val_energies, l2=False)"
   ]
  },
  {
   "cell_type": "markdown",
   "metadata": {},
   "source": [
    "# Below is miscellaneous advice and code that may come in handly later. It is not very well organized and has not been incorporated into my project, so I don't particularly need you to take a look at the things below."
   ]
  },
  {
   "cell_type": "markdown",
   "metadata": {},
   "source": [
    "## Ideas for improvement\n",
    "- try MAE loss\n",
    "- play with MBTR parameters (use regularization, etc)"
   ]
  },
  {
   "cell_type": "markdown",
   "metadata": {},
   "source": [
    "# Oliver says"
   ]
  },
  {
   "cell_type": "markdown",
   "metadata": {},
   "source": [
    "- each input should represent a conformation of a molecule\n",
    "- atomic environment vector as columns\n",
    "- Oliver's guess: >20 features for radial and >30 for spherical, ~50 features total.\n",
    "- radial corresponds to which shell it's on\n",
    "- spherical corresponds to orbital orientation\n",
    "- rotational and translational invariance: if conformation2 is generated by rotation or translation of conformation1, both conformations should have the same energy and same input representation."
   ]
  },
  {
   "cell_type": "markdown",
   "metadata": {},
   "source": []
  },
  {
   "cell_type": "markdown",
   "metadata": {},
   "source": [
    "# Dr. Allgood suggests\n",
    "\n",
    "- RDkit\n",
    "- PCA to compact parameters\n",
    "- genetic algorithm to find optimal hyperparameters for deep learning\n",
    "    - you're gonna have to tune hyperparameters either way\n",
    "- can also use autoencoder (more pwerful PCA!)\n",
    "- for ANN, we can use the architecture in the paper\n"
   ]
  },
  {
   "cell_type": "markdown",
   "metadata": {},
   "source": []
  }
 ],
 "metadata": {
  "kernelspec": {
   "display_name": "Python 3 (ipykernel)",
   "language": "python",
   "name": "python3"
  },
  "language_info": {
   "codemirror_mode": {
    "name": "ipython",
    "version": 3
   },
   "file_extension": ".py",
   "mimetype": "text/x-python",
   "name": "python",
   "nbconvert_exporter": "python",
   "pygments_lexer": "ipython3",
   "version": "3.11.4"
  }
 },
 "nbformat": 4,
 "nbformat_minor": 4
}
